{
 "cells": [
  {
   "cell_type": "code",
   "execution_count": 1,
   "metadata": {},
   "outputs": [],
   "source": [
    "import pandas as pd\n",
    "import matplotlib.pyplot as plt\n",
    "from pymongo import MongoClient\n",
    "\n",
    "from src.google_flight_analysis.scrape import Scrape"
   ]
  },
  {
   "cell_type": "code",
   "execution_count": 2,
   "metadata": {},
   "outputs": [],
   "source": [
    "x = Scrape(\"MUC\", \"LAX\", \"2023-11-28\")"
   ]
  },
  {
   "cell_type": "code",
   "execution_count": 3,
   "metadata": {},
   "outputs": [
    {
     "data": {
      "text/html": [
       "<div>\n",
       "<style scoped>\n",
       "    .dataframe tbody tr th:only-of-type {\n",
       "        vertical-align: middle;\n",
       "    }\n",
       "\n",
       "    .dataframe tbody tr th {\n",
       "        vertical-align: top;\n",
       "    }\n",
       "\n",
       "    .dataframe thead th {\n",
       "        text-align: right;\n",
       "    }\n",
       "</style>\n",
       "<table border=\"1\" class=\"dataframe\">\n",
       "  <thead>\n",
       "    <tr style=\"text-align: right;\">\n",
       "      <th></th>\n",
       "      <th>departure_datetime</th>\n",
       "      <th>arrival_datetime</th>\n",
       "      <th>airlines</th>\n",
       "      <th>travel_time</th>\n",
       "      <th>origin</th>\n",
       "      <th>destination</th>\n",
       "      <th>layover_n</th>\n",
       "      <th>layover_time</th>\n",
       "      <th>layover_location</th>\n",
       "      <th>price_eur</th>\n",
       "      <th>price_trend</th>\n",
       "      <th>price_value</th>\n",
       "      <th>access_date</th>\n",
       "      <th>flight_type</th>\n",
       "      <th>days_advance</th>\n",
       "    </tr>\n",
       "  </thead>\n",
       "  <tbody>\n",
       "    <tr>\n",
       "      <th>0</th>\n",
       "      <td>2023-11-28 21:20:00</td>\n",
       "      <td>2023-11-29 14:10:00</td>\n",
       "      <td>easyJet, Norse Atlantic UK</td>\n",
       "      <td>25:50</td>\n",
       "      <td>MUC</td>\n",
       "      <td>LAX</td>\n",
       "      <td>1</td>\n",
       "      <td>12:10</td>\n",
       "      <td>LGW</td>\n",
       "      <td>400</td>\n",
       "      <td>low</td>\n",
       "      <td>61</td>\n",
       "      <td>2023-06-04 01:49:31.829779</td>\n",
       "      <td>oneway</td>\n",
       "      <td>177</td>\n",
       "    </tr>\n",
       "    <tr>\n",
       "      <th>1</th>\n",
       "      <td>2023-11-28 12:50:00</td>\n",
       "      <td>2023-11-29 01:38:00</td>\n",
       "      <td>Tap Air Portugal, JetBlue</td>\n",
       "      <td>21:48</td>\n",
       "      <td>MUC</td>\n",
       "      <td>LAX</td>\n",
       "      <td>2</td>\n",
       "      <td>LIS, JFK</td>\n",
       "      <td>LIS, JFK</td>\n",
       "      <td>515</td>\n",
       "      <td>low</td>\n",
       "      <td>61</td>\n",
       "      <td>2023-06-04 01:49:31.829793</td>\n",
       "      <td>oneway</td>\n",
       "      <td>177</td>\n",
       "    </tr>\n",
       "    <tr>\n",
       "      <th>2</th>\n",
       "      <td>2023-11-28 07:00:00</td>\n",
       "      <td>2023-11-28 11:50:00</td>\n",
       "      <td>KLMDelta</td>\n",
       "      <td>13:50</td>\n",
       "      <td>MUC</td>\n",
       "      <td>LAX</td>\n",
       "      <td>1</td>\n",
       "      <td>01:05</td>\n",
       "      <td>AMS</td>\n",
       "      <td>663</td>\n",
       "      <td>low</td>\n",
       "      <td>61</td>\n",
       "      <td>2023-06-04 01:49:31.829796</td>\n",
       "      <td>oneway</td>\n",
       "      <td>177</td>\n",
       "    </tr>\n",
       "    <tr>\n",
       "      <th>3</th>\n",
       "      <td>2023-11-28 07:00:00</td>\n",
       "      <td>2023-11-28 13:00:00</td>\n",
       "      <td>Air FranceDelta</td>\n",
       "      <td>15:00</td>\n",
       "      <td>MUC</td>\n",
       "      <td>LAX</td>\n",
       "      <td>1</td>\n",
       "      <td>01:25</td>\n",
       "      <td>CDG</td>\n",
       "      <td>666</td>\n",
       "      <td>low</td>\n",
       "      <td>61</td>\n",
       "      <td>2023-06-04 01:49:31.829798</td>\n",
       "      <td>oneway</td>\n",
       "      <td>177</td>\n",
       "    </tr>\n",
       "    <tr>\n",
       "      <th>4</th>\n",
       "      <td>2023-11-28 11:00:00</td>\n",
       "      <td>2023-11-28 20:45:00</td>\n",
       "      <td>DeltaVirgin Atlantic, KLM</td>\n",
       "      <td>18:45</td>\n",
       "      <td>MUC</td>\n",
       "      <td>LAX</td>\n",
       "      <td>1</td>\n",
       "      <td>02:44</td>\n",
       "      <td>ATL</td>\n",
       "      <td>661</td>\n",
       "      <td>low</td>\n",
       "      <td>61</td>\n",
       "      <td>2023-06-04 01:49:31.829800</td>\n",
       "      <td>oneway</td>\n",
       "      <td>177</td>\n",
       "    </tr>\n",
       "    <tr>\n",
       "      <th>5</th>\n",
       "      <td>2023-11-28 10:50:00</td>\n",
       "      <td>2023-11-28 19:10:00</td>\n",
       "      <td>Air France, Delta</td>\n",
       "      <td>17:20</td>\n",
       "      <td>MUC</td>\n",
       "      <td>LAX</td>\n",
       "      <td>1</td>\n",
       "      <td>03:20</td>\n",
       "      <td>CDG</td>\n",
       "      <td>664</td>\n",
       "      <td>low</td>\n",
       "      <td>61</td>\n",
       "      <td>2023-06-04 01:49:31.829802</td>\n",
       "      <td>oneway</td>\n",
       "      <td>177</td>\n",
       "    </tr>\n",
       "    <tr>\n",
       "      <th>6</th>\n",
       "      <td>2023-11-28 15:25:00</td>\n",
       "      <td>2023-11-28 21:00:00</td>\n",
       "      <td>Air FranceDelta</td>\n",
       "      <td>14:35</td>\n",
       "      <td>MUC</td>\n",
       "      <td>LAX</td>\n",
       "      <td>1</td>\n",
       "      <td>01:05</td>\n",
       "      <td>CDG</td>\n",
       "      <td>750</td>\n",
       "      <td>low</td>\n",
       "      <td>61</td>\n",
       "      <td>2023-06-04 01:49:31.829804</td>\n",
       "      <td>oneway</td>\n",
       "      <td>177</td>\n",
       "    </tr>\n",
       "    <tr>\n",
       "      <th>7</th>\n",
       "      <td>2023-11-28 10:50:00</td>\n",
       "      <td>2023-11-28 18:35:00</td>\n",
       "      <td>Aer Lingus</td>\n",
       "      <td>16:45</td>\n",
       "      <td>MUC</td>\n",
       "      <td>LAX</td>\n",
       "      <td>1</td>\n",
       "      <td>02:45</td>\n",
       "      <td>DUB</td>\n",
       "      <td>768</td>\n",
       "      <td>low</td>\n",
       "      <td>61</td>\n",
       "      <td>2023-06-04 01:49:31.829808</td>\n",
       "      <td>oneway</td>\n",
       "      <td>177</td>\n",
       "    </tr>\n",
       "    <tr>\n",
       "      <th>8</th>\n",
       "      <td>2023-11-28 17:35:00</td>\n",
       "      <td>2023-11-29 20:20:00</td>\n",
       "      <td>Lufthansa, LOT</td>\n",
       "      <td>35:45</td>\n",
       "      <td>Flight + Train</td>\n",
       "      <td>Flight + Train</td>\n",
       "      <td>3</td>\n",
       "      <td>ZAQ, FRA, WAW</td>\n",
       "      <td>ZAQ, FRA, WAW</td>\n",
       "      <td>1352</td>\n",
       "      <td>low</td>\n",
       "      <td>61</td>\n",
       "      <td>2023-06-04 01:49:31.829810</td>\n",
       "      <td>oneway</td>\n",
       "      <td>177</td>\n",
       "    </tr>\n",
       "    <tr>\n",
       "      <th>9</th>\n",
       "      <td>2023-11-28 17:35:00</td>\n",
       "      <td>2023-11-29 20:20:00</td>\n",
       "      <td>Lufthansa, LOT</td>\n",
       "      <td>35:45</td>\n",
       "      <td>Flight + Train</td>\n",
       "      <td>Flight + Train</td>\n",
       "      <td>3</td>\n",
       "      <td>ZAQ, FRA, WAW</td>\n",
       "      <td>ZAQ, FRA, WAW</td>\n",
       "      <td>1352</td>\n",
       "      <td>low</td>\n",
       "      <td>61</td>\n",
       "      <td>2023-06-04 01:49:31.829812</td>\n",
       "      <td>oneway</td>\n",
       "      <td>177</td>\n",
       "    </tr>\n",
       "    <tr>\n",
       "      <th>10</th>\n",
       "      <td>2023-11-28 12:00:00</td>\n",
       "      <td>2023-11-28 15:15:00</td>\n",
       "      <td>LufthansaUnited</td>\n",
       "      <td>12:15</td>\n",
       "      <td>MUC</td>\n",
       "      <td>LAX</td>\n",
       "      <td>0</td>\n",
       "      <td>None</td>\n",
       "      <td>None</td>\n",
       "      <td>1467</td>\n",
       "      <td>low</td>\n",
       "      <td>61</td>\n",
       "      <td>2023-06-04 01:49:31.829814</td>\n",
       "      <td>oneway</td>\n",
       "      <td>177</td>\n",
       "    </tr>\n",
       "  </tbody>\n",
       "</table>\n",
       "</div>"
      ],
      "text/plain": [
       "    departure_datetime    arrival_datetime                    airlines   \n",
       "0  2023-11-28 21:20:00 2023-11-29 14:10:00  easyJet, Norse Atlantic UK  \\\n",
       "1  2023-11-28 12:50:00 2023-11-29 01:38:00   Tap Air Portugal, JetBlue   \n",
       "2  2023-11-28 07:00:00 2023-11-28 11:50:00                    KLMDelta   \n",
       "3  2023-11-28 07:00:00 2023-11-28 13:00:00             Air FranceDelta   \n",
       "4  2023-11-28 11:00:00 2023-11-28 20:45:00   DeltaVirgin Atlantic, KLM   \n",
       "5  2023-11-28 10:50:00 2023-11-28 19:10:00           Air France, Delta   \n",
       "6  2023-11-28 15:25:00 2023-11-28 21:00:00             Air FranceDelta   \n",
       "7  2023-11-28 10:50:00 2023-11-28 18:35:00                  Aer Lingus   \n",
       "8  2023-11-28 17:35:00 2023-11-29 20:20:00              Lufthansa, LOT   \n",
       "9  2023-11-28 17:35:00 2023-11-29 20:20:00              Lufthansa, LOT   \n",
       "10 2023-11-28 12:00:00 2023-11-28 15:15:00             LufthansaUnited   \n",
       "\n",
       "   travel_time          origin     destination  layover_n   layover_time   \n",
       "0        25:50             MUC             LAX          1          12:10  \\\n",
       "1        21:48             MUC             LAX          2       LIS, JFK   \n",
       "2        13:50             MUC             LAX          1          01:05   \n",
       "3        15:00             MUC             LAX          1          01:25   \n",
       "4        18:45             MUC             LAX          1          02:44   \n",
       "5        17:20             MUC             LAX          1          03:20   \n",
       "6        14:35             MUC             LAX          1          01:05   \n",
       "7        16:45             MUC             LAX          1          02:45   \n",
       "8        35:45  Flight + Train  Flight + Train          3  ZAQ, FRA, WAW   \n",
       "9        35:45  Flight + Train  Flight + Train          3  ZAQ, FRA, WAW   \n",
       "10       12:15             MUC             LAX          0           None   \n",
       "\n",
       "   layover_location  price_eur price_trend  price_value   \n",
       "0               LGW        400         low           61  \\\n",
       "1          LIS, JFK        515         low           61   \n",
       "2               AMS        663         low           61   \n",
       "3               CDG        666         low           61   \n",
       "4               ATL        661         low           61   \n",
       "5               CDG        664         low           61   \n",
       "6               CDG        750         low           61   \n",
       "7               DUB        768         low           61   \n",
       "8     ZAQ, FRA, WAW       1352         low           61   \n",
       "9     ZAQ, FRA, WAW       1352         low           61   \n",
       "10             None       1467         low           61   \n",
       "\n",
       "                  access_date flight_type  days_advance  \n",
       "0  2023-06-04 01:49:31.829779      oneway           177  \n",
       "1  2023-06-04 01:49:31.829793      oneway           177  \n",
       "2  2023-06-04 01:49:31.829796      oneway           177  \n",
       "3  2023-06-04 01:49:31.829798      oneway           177  \n",
       "4  2023-06-04 01:49:31.829800      oneway           177  \n",
       "5  2023-06-04 01:49:31.829802      oneway           177  \n",
       "6  2023-06-04 01:49:31.829804      oneway           177  \n",
       "7  2023-06-04 01:49:31.829808      oneway           177  \n",
       "8  2023-06-04 01:49:31.829810      oneway           177  \n",
       "9  2023-06-04 01:49:31.829812      oneway           177  \n",
       "10 2023-06-04 01:49:31.829814      oneway           177  "
      ]
     },
     "execution_count": 3,
     "metadata": {},
     "output_type": "execute_result"
    }
   ],
   "source": [
    "x.data"
   ]
  },
  {
   "cell_type": "code",
   "execution_count": 4,
   "metadata": {},
   "outputs": [
    {
     "name": "stdout",
     "output_type": "stream",
     "text": [
      "Created index [origin_index] on collection [scraped]\n",
      "Created index [destination_index] on collection [scraped]\n"
     ]
    },
    {
     "data": {
      "text/plain": [
       "Connected to database [flight-analysis], collection [scraped]"
      ]
     },
     "execution_count": 4,
     "metadata": {},
     "output_type": "execute_result"
    }
   ],
   "source": [
    "from src.google_flight_analysis.database import Database\n",
    "import private.private as private\n",
    "\n",
    "\n",
    "db = Database(private.DB_URL, private.DB_NAME, private.DB_COLL)\n",
    "db"
   ]
  },
  {
   "cell_type": "code",
   "execution_count": 5,
   "metadata": {},
   "outputs": [
    {
     "name": "stdout",
     "output_type": "stream",
     "text": [
      "Added 11 rows to collection [scraped]\n"
     ]
    }
   ],
   "source": [
    "db.add_pandas_df(x.data)"
   ]
  },
  {
   "cell_type": "code",
   "execution_count": 6,
   "metadata": {},
   "outputs": [
    {
     "data": {
      "text/plain": [
       "{'_id_': {'v': 2, 'key': [('_id', 1)]},\n",
       " 'origin_index': {'v': 2, 'key': [('origin', 1)]},\n",
       " 'destination_index': {'v': 2, 'key': [('destination', 1)]}}"
      ]
     },
     "execution_count": 6,
     "metadata": {},
     "output_type": "execute_result"
    }
   ],
   "source": [
    "db.collection.index_information()"
   ]
  },
  {
   "cell_type": "code",
   "execution_count": 7,
   "metadata": {},
   "outputs": [
    {
     "name": "stdout",
     "output_type": "stream",
     "text": [
      "_id_\n",
      "origin_index\n",
      "destination_index\n"
     ]
    }
   ],
   "source": [
    "for i in db.collection.list_indexes():\n",
    "    print(i.get(\"name\"))"
   ]
  },
  {
   "cell_type": "code",
   "execution_count": 8,
   "metadata": {},
   "outputs": [],
   "source": [
    "# db.collection.delete_many({\"days_advance\": 177})"
   ]
  },
  {
   "cell_type": "code",
   "execution_count": 9,
   "metadata": {},
   "outputs": [],
   "source": [
    "# collection.create_index([ (\"Price (€)\", -1) ])"
   ]
  },
  {
   "cell_type": "code",
   "execution_count": 10,
   "metadata": {},
   "outputs": [],
   "source": [
    "# collection.insert_many(x.data.copy().to_dict(\"records\"))\n"
   ]
  }
 ],
 "metadata": {
  "kernelspec": {
   "display_name": ".venv",
   "language": "python",
   "name": "python3"
  },
  "language_info": {
   "codemirror_mode": {
    "name": "ipython",
    "version": 3
   },
   "file_extension": ".py",
   "mimetype": "text/x-python",
   "name": "python",
   "nbconvert_exporter": "python",
   "pygments_lexer": "ipython3",
   "version": "3.11.3"
  },
  "orig_nbformat": 4
 },
 "nbformat": 4,
 "nbformat_minor": 2
}
