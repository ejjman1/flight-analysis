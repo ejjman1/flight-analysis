{
 "cells": [
  {
   "cell_type": "code",
   "execution_count": 1,
   "metadata": {},
   "outputs": [],
   "source": [
    "import pandas as pd\n",
    "import matplotlib.pyplot as plt\n",
    "from pymongo import MongoClient\n",
    "\n",
    "from src.google_flight_analysis.scrape import Scrape"
   ]
  },
  {
   "cell_type": "code",
   "execution_count": 2,
   "metadata": {},
   "outputs": [],
   "source": [
    "x = Scrape(\"MUC\", \"FCO\", \"2023-06-04\")"
   ]
  },
  {
   "cell_type": "code",
   "execution_count": 3,
   "metadata": {},
   "outputs": [
    {
     "name": "stdout",
     "output_type": "stream",
     "text": [
      "8:55PM [] 2023-06-04\n",
      " [datetime.datetime(2023, 6, 4, 20, 55)] 2023-06-04\n",
      "8:50AM+1 [datetime.datetime(2023, 6, 4, 20, 55)] 2023-06-04\n",
      "EurowingsLufthansa [datetime.datetime(2023, 6, 4, 20, 55), datetime.datetime(2023, 6, 5, 8, 50)] 2023-06-04\n",
      "11 hr 55 min [datetime.datetime(2023, 6, 4, 20, 55), datetime.datetime(2023, 6, 5, 8, 50)] 2023-06-04\n",
      "MUCFCO [datetime.datetime(2023, 6, 4, 20, 55), datetime.datetime(2023, 6, 5, 8, 50)] 2023-06-04\n",
      "1 stop [datetime.datetime(2023, 6, 4, 20, 55), datetime.datetime(2023, 6, 5, 8, 50)] 2023-06-04\n",
      "8 hr 15 min HAM [] 2023-06-04\n"
     ]
    },
    {
     "ename": "ValueError",
     "evalue": "time data '2023-06-04 8 hr 15 min HAM' does not match format '%Y-%m-%d %I:%M%p'",
     "output_type": "error",
     "traceback": [
      "\u001b[0;31m---------------------------------------------------------------------------\u001b[0m",
      "\u001b[0;31mValueError\u001b[0m                                Traceback (most recent call last)",
      "Cell \u001b[0;32mIn[3], line 1\u001b[0m\n\u001b[0;32m----> 1\u001b[0m x\u001b[39m.\u001b[39;49mrun_scrape()\n",
      "File \u001b[0;32m~/Library/CloudStorage/GoogleDrive-esalonico@gmail.com/My Drive/SYNC/Dev/Flights/flight-analysis/src/google_flight_analysis/scrape.py:35\u001b[0m, in \u001b[0;36mScrape.run_scrape\u001b[0;34m(self)\u001b[0m\n\u001b[1;32m     34\u001b[0m \u001b[39mdef\u001b[39;00m \u001b[39mrun_scrape\u001b[39m(\u001b[39mself\u001b[39m):\n\u001b[0;32m---> 35\u001b[0m     \u001b[39mself\u001b[39m\u001b[39m.\u001b[39m_data \u001b[39m=\u001b[39m \u001b[39mself\u001b[39;49m\u001b[39m.\u001b[39;49m_scrape_data()\n\u001b[1;32m     37\u001b[0m     \u001b[39mif\u001b[39;00m \u001b[39mself\u001b[39m\u001b[39m.\u001b[39m_export:\n\u001b[1;32m     38\u001b[0m         Flight\u001b[39m.\u001b[39mexport_to_csv(\u001b[39mself\u001b[39m\u001b[39m.\u001b[39m_data, \u001b[39mself\u001b[39m\u001b[39m.\u001b[39m_origin, \u001b[39mself\u001b[39m\u001b[39m.\u001b[39m_dest, \u001b[39mself\u001b[39m\u001b[39m.\u001b[39m_date_leave, \u001b[39mself\u001b[39m\u001b[39m.\u001b[39m_date_return)\n",
      "File \u001b[0;32m~/Library/CloudStorage/GoogleDrive-esalonico@gmail.com/My Drive/SYNC/Dev/Flights/flight-analysis/src/google_flight_analysis/scrape.py:130\u001b[0m, in \u001b[0;36mScrape._scrape_data\u001b[0;34m(self)\u001b[0m\n\u001b[1;32m    128\u001b[0m driver \u001b[39m=\u001b[39m webdriver\u001b[39m.\u001b[39mChrome()\n\u001b[1;32m    129\u001b[0m \u001b[39mself\u001b[39m\u001b[39m.\u001b[39m_url \u001b[39m=\u001b[39m \u001b[39mself\u001b[39m\u001b[39m.\u001b[39m_make_url()\n\u001b[0;32m--> 130\u001b[0m flight_results \u001b[39m=\u001b[39m \u001b[39mself\u001b[39;49m\u001b[39m.\u001b[39;49m_get_results(driver)\n\u001b[1;32m    131\u001b[0m driver\u001b[39m.\u001b[39mquit()\n\u001b[1;32m    133\u001b[0m \u001b[39mreturn\u001b[39;00m flight_results\n",
      "File \u001b[0;32m~/Library/CloudStorage/GoogleDrive-esalonico@gmail.com/My Drive/SYNC/Dev/Flights/flight-analysis/src/google_flight_analysis/scrape.py:170\u001b[0m, in \u001b[0;36mScrape._get_results\u001b[0;34m(self, driver)\u001b[0m\n\u001b[1;32m    164\u001b[0m     \u001b[39mprint\u001b[39m(\n\u001b[1;32m    165\u001b[0m \u001b[39m        \u001b[39m\u001b[39m'''TimeoutException, try again and check your internet connection!\\n\u001b[39;00m\n\u001b[1;32m    166\u001b[0m \u001b[39m        Also possible that no flights exist for your query :('''\u001b[39;00m\u001b[39m.\u001b[39mreplace(\u001b[39m'\u001b[39m\u001b[39m\\t\u001b[39;00m\u001b[39m'\u001b[39m,\u001b[39m'\u001b[39m\u001b[39m'\u001b[39m)\n\u001b[1;32m    167\u001b[0m     )\n\u001b[1;32m    168\u001b[0m     \u001b[39mreturn\u001b[39;00m \u001b[39m-\u001b[39m\u001b[39m1\u001b[39m\n\u001b[0;32m--> 170\u001b[0m flights \u001b[39m=\u001b[39m \u001b[39mself\u001b[39;49m\u001b[39m.\u001b[39;49m_clean_results(results)\n\u001b[1;32m    171\u001b[0m \u001b[39mself\u001b[39m\u001b[39m.\u001b[39mresults_clean \u001b[39m=\u001b[39m flights\n\u001b[1;32m    172\u001b[0m \u001b[39mreturn\u001b[39;00m Flight\u001b[39m.\u001b[39mdataframe(flights)\n",
      "File \u001b[0;32m~/Library/CloudStorage/GoogleDrive-esalonico@gmail.com/My Drive/SYNC/Dev/Flights/flight-analysis/src/google_flight_analysis/scrape.py:203\u001b[0m, in \u001b[0;36mScrape._clean_results\u001b[0;34m(self, result)\u001b[0m\n\u001b[1;32m    198\u001b[0m res3 \u001b[39m=\u001b[39m res2[start:mid_start] \u001b[39m+\u001b[39m res2[mid_end:end]\n\u001b[1;32m    200\u001b[0m matches \u001b[39m=\u001b[39m [i \u001b[39mfor\u001b[39;00m i, x \u001b[39min\u001b[39;00m \u001b[39menumerate\u001b[39m(res3) \u001b[39mif\u001b[39;00m \u001b[39mlen\u001b[39m(x) \u001b[39m>\u001b[39m \u001b[39m2\u001b[39m \u001b[39mand\u001b[39;00m ((x[\u001b[39m-\u001b[39m\u001b[39m2\u001b[39m] \u001b[39m!=\u001b[39m \u001b[39m'\u001b[39m\u001b[39m+\u001b[39m\u001b[39m'\u001b[39m \u001b[39mand\u001b[39;00m (x\u001b[39m.\u001b[39mendswith(\u001b[39m'\u001b[39m\u001b[39mPM\u001b[39m\u001b[39m'\u001b[39m) \u001b[39mor\u001b[39;00m x\u001b[39m.\u001b[39mendswith(\u001b[39m'\u001b[39m\u001b[39mAM\u001b[39m\u001b[39m'\u001b[39m))) \u001b[39mor\u001b[39;00m x[\u001b[39m-\u001b[39m\u001b[39m2\u001b[39m] \u001b[39m==\u001b[39m \u001b[39m'\u001b[39m\u001b[39m+\u001b[39m\u001b[39m'\u001b[39m)][::\u001b[39m2\u001b[39m]\n\u001b[0;32m--> 203\u001b[0m flights \u001b[39m=\u001b[39m [\n\u001b[1;32m    204\u001b[0m     Flight(\n\u001b[1;32m    205\u001b[0m         \u001b[39mself\u001b[39;49m\u001b[39m.\u001b[39;49m_date_leave,\n\u001b[1;32m    206\u001b[0m         \u001b[39mself\u001b[39;49m\u001b[39m.\u001b[39;49m_round_trip,\n\u001b[1;32m    207\u001b[0m         price_trend,\n\u001b[1;32m    208\u001b[0m         res3[matches[i]:matches[i\u001b[39m+\u001b[39;49m\u001b[39m1\u001b[39;49m]]) \u001b[39mfor\u001b[39;49;00m i \u001b[39min\u001b[39;49;00m \u001b[39mrange\u001b[39;49m(\u001b[39mlen\u001b[39;49m(matches)\u001b[39m-\u001b[39;49m\u001b[39m1\u001b[39;49m)\n\u001b[1;32m    209\u001b[0m     ]\n\u001b[1;32m    211\u001b[0m \u001b[39mreturn\u001b[39;00m flights\n",
      "File \u001b[0;32m~/Library/CloudStorage/GoogleDrive-esalonico@gmail.com/My Drive/SYNC/Dev/Flights/flight-analysis/src/google_flight_analysis/scrape.py:204\u001b[0m, in \u001b[0;36m<listcomp>\u001b[0;34m(.0)\u001b[0m\n\u001b[1;32m    198\u001b[0m res3 \u001b[39m=\u001b[39m res2[start:mid_start] \u001b[39m+\u001b[39m res2[mid_end:end]\n\u001b[1;32m    200\u001b[0m matches \u001b[39m=\u001b[39m [i \u001b[39mfor\u001b[39;00m i, x \u001b[39min\u001b[39;00m \u001b[39menumerate\u001b[39m(res3) \u001b[39mif\u001b[39;00m \u001b[39mlen\u001b[39m(x) \u001b[39m>\u001b[39m \u001b[39m2\u001b[39m \u001b[39mand\u001b[39;00m ((x[\u001b[39m-\u001b[39m\u001b[39m2\u001b[39m] \u001b[39m!=\u001b[39m \u001b[39m'\u001b[39m\u001b[39m+\u001b[39m\u001b[39m'\u001b[39m \u001b[39mand\u001b[39;00m (x\u001b[39m.\u001b[39mendswith(\u001b[39m'\u001b[39m\u001b[39mPM\u001b[39m\u001b[39m'\u001b[39m) \u001b[39mor\u001b[39;00m x\u001b[39m.\u001b[39mendswith(\u001b[39m'\u001b[39m\u001b[39mAM\u001b[39m\u001b[39m'\u001b[39m))) \u001b[39mor\u001b[39;00m x[\u001b[39m-\u001b[39m\u001b[39m2\u001b[39m] \u001b[39m==\u001b[39m \u001b[39m'\u001b[39m\u001b[39m+\u001b[39m\u001b[39m'\u001b[39m)][::\u001b[39m2\u001b[39m]\n\u001b[1;32m    203\u001b[0m flights \u001b[39m=\u001b[39m [\n\u001b[0;32m--> 204\u001b[0m     Flight(\n\u001b[1;32m    205\u001b[0m         \u001b[39mself\u001b[39;49m\u001b[39m.\u001b[39;49m_date_leave,\n\u001b[1;32m    206\u001b[0m         \u001b[39mself\u001b[39;49m\u001b[39m.\u001b[39;49m_round_trip,\n\u001b[1;32m    207\u001b[0m         price_trend,\n\u001b[1;32m    208\u001b[0m         res3[matches[i]:matches[i\u001b[39m+\u001b[39;49m\u001b[39m1\u001b[39;49m]]) \u001b[39mfor\u001b[39;00m i \u001b[39min\u001b[39;00m \u001b[39mrange\u001b[39m(\u001b[39mlen\u001b[39m(matches)\u001b[39m-\u001b[39m\u001b[39m1\u001b[39m)\n\u001b[1;32m    209\u001b[0m     ]\n\u001b[1;32m    211\u001b[0m \u001b[39mreturn\u001b[39;00m flights\n",
      "File \u001b[0;32m~/Library/CloudStorage/GoogleDrive-esalonico@gmail.com/My Drive/SYNC/Dev/Flights/flight-analysis/src/google_flight_analysis/flight.py:36\u001b[0m, in \u001b[0;36mFlight.__init__\u001b[0;34m(self, dl, roundtrip, price_trend, *args)\u001b[0m\n\u001b[1;32m     34\u001b[0m \u001b[39mself\u001b[39m\u001b[39m.\u001b[39m_time_arrive \u001b[39m=\u001b[39m \u001b[39mNone\u001b[39;00m\n\u001b[1;32m     35\u001b[0m \u001b[39mself\u001b[39m\u001b[39m.\u001b[39m_trash \u001b[39m=\u001b[39m []\n\u001b[0;32m---> 36\u001b[0m \u001b[39mself\u001b[39;49m\u001b[39m.\u001b[39;49m_parse_args(\u001b[39m*\u001b[39;49margs)\n",
      "File \u001b[0;32m~/Library/CloudStorage/GoogleDrive-esalonico@gmail.com/My Drive/SYNC/Dev/Flights/flight-analysis/src/google_flight_analysis/flight.py:207\u001b[0m, in \u001b[0;36mFlight._parse_args\u001b[0;34m(self, args)\u001b[0m\n\u001b[1;32m    205\u001b[0m \u001b[39mdef\u001b[39;00m \u001b[39m_parse_args\u001b[39m(\u001b[39mself\u001b[39m, args):\n\u001b[1;32m    206\u001b[0m     \u001b[39mfor\u001b[39;00m arg \u001b[39min\u001b[39;00m args:\n\u001b[0;32m--> 207\u001b[0m         \u001b[39mself\u001b[39;49m\u001b[39m.\u001b[39;49m_classify_arg(arg)\n",
      "File \u001b[0;32m~/Library/CloudStorage/GoogleDrive-esalonico@gmail.com/My Drive/SYNC/Dev/Flights/flight-analysis/src/google_flight_analysis/flight.py:142\u001b[0m, in \u001b[0;36mFlight._classify_arg\u001b[0;34m(self, arg)\u001b[0m\n\u001b[1;32m    139\u001b[0m         arg \u001b[39m=\u001b[39m arg[:\u001b[39m-\u001b[39m\u001b[39m2\u001b[39m]\n\u001b[1;32m    141\u001b[0m     date_format \u001b[39m=\u001b[39m \u001b[39m\"\u001b[39m\u001b[39m%\u001b[39m\u001b[39mY-\u001b[39m\u001b[39m%\u001b[39m\u001b[39mm-\u001b[39m\u001b[39m%d\u001b[39;00m\u001b[39m \u001b[39m\u001b[39m%\u001b[39m\u001b[39mI:\u001b[39m\u001b[39m%\u001b[39m\u001b[39mM\u001b[39m\u001b[39m%\u001b[39m\u001b[39mp\u001b[39m\u001b[39m\"\u001b[39m\n\u001b[0;32m--> 142\u001b[0m     \u001b[39mself\u001b[39m\u001b[39m.\u001b[39m_times \u001b[39m+\u001b[39m\u001b[39m=\u001b[39m [datetime\u001b[39m.\u001b[39;49mstrptime(\u001b[39mself\u001b[39;49m\u001b[39m.\u001b[39;49m_date \u001b[39m+\u001b[39;49m \u001b[39m\"\u001b[39;49m\u001b[39m \u001b[39;49m\u001b[39m\"\u001b[39;49m \u001b[39m+\u001b[39;49m arg, date_format) \u001b[39m+\u001b[39m delta]\n\u001b[1;32m    144\u001b[0m \u001b[39m# flight time        \u001b[39;00m\n\u001b[1;32m    145\u001b[0m \u001b[39melif\u001b[39;00m (\u001b[39m'\u001b[39m\u001b[39mhr\u001b[39m\u001b[39m'\u001b[39m \u001b[39min\u001b[39;00m arg \u001b[39mor\u001b[39;00m \u001b[39m'\u001b[39m\u001b[39mmin\u001b[39m\u001b[39m'\u001b[39m\u001b[39min\u001b[39;00m arg) \u001b[39mand\u001b[39;00m \u001b[39mself\u001b[39m\u001b[39m.\u001b[39m_flight_time \u001b[39mis\u001b[39;00m \u001b[39mNone\u001b[39;00m:\n",
      "File \u001b[0;32m/opt/homebrew/Cellar/python@3.11/3.11.3/Frameworks/Python.framework/Versions/3.11/lib/python3.11/_strptime.py:568\u001b[0m, in \u001b[0;36m_strptime_datetime\u001b[0;34m(cls, data_string, format)\u001b[0m\n\u001b[1;32m    565\u001b[0m \u001b[39mdef\u001b[39;00m \u001b[39m_strptime_datetime\u001b[39m(\u001b[39mcls\u001b[39m, data_string, \u001b[39mformat\u001b[39m\u001b[39m=\u001b[39m\u001b[39m\"\u001b[39m\u001b[39m%a\u001b[39;00m\u001b[39m \u001b[39m\u001b[39m%\u001b[39m\u001b[39mb \u001b[39m\u001b[39m%d\u001b[39;00m\u001b[39m \u001b[39m\u001b[39m%\u001b[39m\u001b[39mH:\u001b[39m\u001b[39m%\u001b[39m\u001b[39mM:\u001b[39m\u001b[39m%\u001b[39m\u001b[39mS \u001b[39m\u001b[39m%\u001b[39m\u001b[39mY\u001b[39m\u001b[39m\"\u001b[39m):\n\u001b[1;32m    566\u001b[0m \u001b[39m    \u001b[39m\u001b[39m\"\"\"Return a class cls instance based on the input string and the\u001b[39;00m\n\u001b[1;32m    567\u001b[0m \u001b[39m    format string.\"\"\"\u001b[39;00m\n\u001b[0;32m--> 568\u001b[0m     tt, fraction, gmtoff_fraction \u001b[39m=\u001b[39m _strptime(data_string, \u001b[39mformat\u001b[39;49m)\n\u001b[1;32m    569\u001b[0m     tzname, gmtoff \u001b[39m=\u001b[39m tt[\u001b[39m-\u001b[39m\u001b[39m2\u001b[39m:]\n\u001b[1;32m    570\u001b[0m     args \u001b[39m=\u001b[39m tt[:\u001b[39m6\u001b[39m] \u001b[39m+\u001b[39m (fraction,)\n",
      "File \u001b[0;32m/opt/homebrew/Cellar/python@3.11/3.11.3/Frameworks/Python.framework/Versions/3.11/lib/python3.11/_strptime.py:349\u001b[0m, in \u001b[0;36m_strptime\u001b[0;34m(data_string, format)\u001b[0m\n\u001b[1;32m    347\u001b[0m found \u001b[39m=\u001b[39m format_regex\u001b[39m.\u001b[39mmatch(data_string)\n\u001b[1;32m    348\u001b[0m \u001b[39mif\u001b[39;00m \u001b[39mnot\u001b[39;00m found:\n\u001b[0;32m--> 349\u001b[0m     \u001b[39mraise\u001b[39;00m \u001b[39mValueError\u001b[39;00m(\u001b[39m\"\u001b[39m\u001b[39mtime data \u001b[39m\u001b[39m%r\u001b[39;00m\u001b[39m does not match format \u001b[39m\u001b[39m%r\u001b[39;00m\u001b[39m\"\u001b[39m \u001b[39m%\u001b[39m\n\u001b[1;32m    350\u001b[0m                      (data_string, \u001b[39mformat\u001b[39m))\n\u001b[1;32m    351\u001b[0m \u001b[39mif\u001b[39;00m \u001b[39mlen\u001b[39m(data_string) \u001b[39m!=\u001b[39m found\u001b[39m.\u001b[39mend():\n\u001b[1;32m    352\u001b[0m     \u001b[39mraise\u001b[39;00m \u001b[39mValueError\u001b[39;00m(\u001b[39m\"\u001b[39m\u001b[39munconverted data remains: \u001b[39m\u001b[39m%s\u001b[39;00m\u001b[39m\"\u001b[39m \u001b[39m%\u001b[39m\n\u001b[1;32m    353\u001b[0m                       data_string[found\u001b[39m.\u001b[39mend():])\n",
      "\u001b[0;31mValueError\u001b[0m: time data '2023-06-04 8 hr 15 min HAM' does not match format '%Y-%m-%d %I:%M%p'"
     ]
    }
   ],
   "source": [
    "x.run_scrape()"
   ]
  },
  {
   "cell_type": "code",
   "execution_count": null,
   "metadata": {},
   "outputs": [],
   "source": [
    "from datetime import timedelta, datetime\n",
    "\n",
    "arg = \"8 hr 15 min HAM\"\n",
    "_times = \"\"\n",
    "_date = \"2023-06-04\"\n",
    "\n",
    "# arrival or departure time\n",
    "if ('AM' in arg or 'PM' in arg) and len(_times) < 2:\n",
    "    delta = timedelta(days = 0)\n",
    "    if arg[-2] == '+':\n",
    "        delta = timedelta(days = int(arg[-1]))\n",
    "        arg = arg[:-2]\n",
    "\n",
    "    date_format = \"%Y-%m-%d %I:%M%p\"\n",
    "    _times += [datetime.strptime(._date + \" \" + arg, date_format) + delta]"
   ]
  }
 ],
 "metadata": {
  "kernelspec": {
   "display_name": ".venv",
   "language": "python",
   "name": "python3"
  },
  "language_info": {
   "codemirror_mode": {
    "name": "ipython",
    "version": 3
   },
   "file_extension": ".py",
   "mimetype": "text/x-python",
   "name": "python",
   "nbconvert_exporter": "python",
   "pygments_lexer": "ipython3",
   "version": "3.11.3"
  },
  "orig_nbformat": 4
 },
 "nbformat": 4,
 "nbformat_minor": 2
}
