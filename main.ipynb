{
 "cells": [
  {
   "cell_type": "code",
   "execution_count": 1,
   "metadata": {},
   "outputs": [],
   "source": [
    "import pandas as pd\n",
    "import matplotlib.pyplot as plt\n",
    "from src.google_flight_analysis.scrape import *"
   ]
  },
  {
   "cell_type": "code",
   "execution_count": 2,
   "metadata": {},
   "outputs": [],
   "source": [
    "x = Scrape(\"MUC\", \"FCO\", \"2023-11-28\")"
   ]
  },
  {
   "cell_type": "code",
   "execution_count": 19,
   "metadata": {},
   "outputs": [
    {
     "data": {
      "text/plain": [
       "'2023-11-28 10:45:00'"
      ]
     },
     "execution_count": 19,
     "metadata": {},
     "output_type": "execute_result"
    }
   ],
   "source": [
    "x.data.iloc[0][0].strftime(\"%Y-%m-%d %H:%M:%S\")"
   ]
  },
  {
   "cell_type": "code",
   "execution_count": null,
   "metadata": {},
   "outputs": [],
   "source": []
  },
  {
   "cell_type": "code",
   "execution_count": 4,
   "metadata": {},
   "outputs": [
    {
     "name": "stdout",
     "output_type": "stream",
     "text": [
      "|    | Departure datetime   | Arrival datetime    | Airline(s)    | Travel Time   | Origin         | Destination    |   Num Stops | Layover       | Stops Location   |   Price (€) | Price Trend   | Price Value   | Access Date      | Flight Type   |   Days in Advance |\n",
      "|---:|:---------------------|:--------------------|:--------------|:--------------|:---------------|:---------------|------------:|:--------------|:-----------------|------------:|:--------------|:--------------|:-----------------|:--------------|------------------:|\n",
      "|  0 | 2023-11-28 10:45:00  | 2023-11-28 12:15:00 | Lufthansa     | 01:30         | MUC            | FCO            |           0 |               |                  |          95 |               |               | 2023-05-23 19:34 | One Way       |               188 |\n",
      "|  1 | 2023-11-28 13:20:00  | 2023-11-28 14:50:00 | Lufthansa     | 01:30         | MUC            | FCO            |           0 |               |                  |          95 |               |               | 2023-05-23 19:34 | One Way       |               188 |\n",
      "|  2 | 2023-11-28 10:50:00  | 2023-11-28 12:30:00 | ITA           | 01:40         | MUC            | FCO            |           0 |               |                  |          95 |               |               | 2023-05-23 19:34 | One Way       |               188 |\n",
      "|  3 | 2023-11-28 10:00:00  | 2023-11-28 18:10:00 | VuelingIberia | 08:10         | MUC            | FCO            |           1 | 04:15         | BCN              |          79 |               |               | 2023-05-23 19:34 | One Way       |               188 |\n",
      "|  4 | 2023-11-28 21:00:00  | 2023-11-29 09:05:00 | VuelingIberia | 12:05         | MUC            | FCO            |           1 | 08:05         | BCN              |          79 |               |               | 2023-05-23 19:34 | One Way       |               189 |\n",
      "|  5 | 2023-11-28 08:40:00  | 2023-11-28 10:10:00 | Lufthansa     | 01:30         | MUC            | FCO            |           0 |               |                  |          95 |               |               | 2023-05-23 19:34 | One Way       |               188 |\n",
      "|  6 | 2023-11-28 17:25:00  | 2023-11-28 18:55:00 | Lufthansa     | 01:30         | MUC            | FCO            |           0 |               |                  |          95 |               |               | 2023-05-23 19:34 | One Way       |               188 |\n",
      "|  7 | 2023-11-28 19:50:00  | 2023-11-28 21:20:00 | Lufthansa     | 01:30         | MUC            | FCO            |           0 |               |                  |          95 |               |               | 2023-05-23 19:34 | One Way       |               189 |\n",
      "|  8 | 2023-11-28 14:00:00  | 2023-11-28 17:50:00 | Lufthansa     | 03:50         | MUC            | FCO            |           1 | 01:05         | FRA              |         123 |               |               | 2023-05-23 19:34 | One Way       |               188 |\n",
      "|  9 | 2023-11-28 06:26:00  | 2023-11-28 12:40:00 | Lufthansa     | 06:14         | Flight + Train | Flight + Train |           3 | QUL, ZWS, FRA | QUL, ZWS, FRA    |         173 |               |               | 2023-05-23 19:34 | One Way       |               188 |\n"
     ]
    }
   ],
   "source": [
    "print(x.data.to_markdown())"
   ]
  },
  {
   "cell_type": "code",
   "execution_count": 5,
   "metadata": {},
   "outputs": [],
   "source": [
    "# dfs = []\n",
    "# for i in range(10, 26):\n",
    "#     print(i)\n",
    "#     df = Scrape('MUC', 'JFK', f\"2023-09-{i}\")\n",
    "#     dfs.append(df.data)\n",
    "    \n",
    "# df_all = pd.concat(dfs))\n",
    "# # df_all"
   ]
  },
  {
   "cell_type": "code",
   "execution_count": 6,
   "metadata": {},
   "outputs": [],
   "source": [
    "# plot_data = df_all.groupby(\"Days in Advance\")[\"Price (€)\"].mean()\n",
    "# plt.plot(plot_data)"
   ]
  }
 ],
 "metadata": {
  "kernelspec": {
   "display_name": ".venv",
   "language": "python",
   "name": "python3"
  },
  "language_info": {
   "codemirror_mode": {
    "name": "ipython",
    "version": 3
   },
   "file_extension": ".py",
   "mimetype": "text/x-python",
   "name": "python",
   "nbconvert_exporter": "python",
   "pygments_lexer": "ipython3",
   "version": "3.11.3"
  },
  "orig_nbformat": 4
 },
 "nbformat": 4,
 "nbformat_minor": 2
}
